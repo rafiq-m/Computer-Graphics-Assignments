{
 "cells": [
  {
   "cell_type": "code",
   "execution_count": 1,
   "metadata": {},
   "outputs": [],
   "source": [
    "import cv2\n",
    "img = cv2.imread('me1.jpeg')"
   ]
  },
  {
   "cell_type": "code",
   "execution_count": 2,
   "metadata": {},
   "outputs": [
    {
     "data": {
      "text/plain": [
       "-1"
      ]
     },
     "execution_count": 2,
     "metadata": {},
     "output_type": "execute_result"
    }
   ],
   "source": [
    "imS = cv2.resize(img, (310, 372))   \n",
    "cv2.imshow('image', imS)\n",
    "cv2.waitKey(0)"
   ]
  },
  {
   "cell_type": "code",
   "execution_count": 80,
   "metadata": {},
   "outputs": [
    {
     "data": {
      "text/plain": [
       "-1"
      ]
     },
     "execution_count": 80,
     "metadata": {},
     "output_type": "execute_result"
    }
   ],
   "source": [
    "pt1 = (450, 300)\n",
    "pt2 = (300, 600)\n",
    "pt3 = (600, 600)\n",
    "\n",
    "triangle_cnt = np.array( [pt1, pt2, pt3] )\n",
    "\n",
    "cv2.drawContours(img, [triangle_cnt], 0, (0,0,0), 20)\n",
    "imS = cv2.resize(img, (310, 372))   \n",
    "cv2.imshow(\"image\", imS)\n",
    "cv2.waitKey()"
   ]
  },
  {
   "cell_type": "code",
   "execution_count": 81,
   "metadata": {},
   "outputs": [
    {
     "data": {
      "text/plain": [
       "-1"
      ]
     },
     "execution_count": 81,
     "metadata": {},
     "output_type": "execute_result"
    }
   ],
   "source": [
    "img_color = cv2.imread('me1.jpeg',1)\n",
    "imS_color = cv2.resize(img_color, (310, 372))   \n",
    "cv2.imshow(\"image\", imS_color)\n",
    "cv2.waitKey()"
   ]
  },
  {
   "cell_type": "code",
   "execution_count": 82,
   "metadata": {},
   "outputs": [
    {
     "data": {
      "text/plain": [
       "-1"
      ]
     },
     "execution_count": 82,
     "metadata": {},
     "output_type": "execute_result"
    }
   ],
   "source": [
    "img_gray = cv2.imread('me1.jpeg',0)\n",
    "imS_gray = cv2.resize(img_gray, (310, 372))   \n",
    "cv2.imshow(\"image\", imS_gray)\n",
    "cv2.waitKey()"
   ]
  },
  {
   "cell_type": "code",
   "execution_count": 3,
   "metadata": {},
   "outputs": [
    {
     "data": {
      "text/plain": [
       "numpy.ndarray"
      ]
     },
     "execution_count": 3,
     "metadata": {},
     "output_type": "execute_result"
    }
   ],
   "source": [
    "type(imS)"
   ]
  },
  {
   "cell_type": "code",
   "execution_count": 1,
   "metadata": {},
   "outputs": [],
   "source": [
    "import math"
   ]
  },
  {
   "cell_type": "code",
   "execution_count": 9,
   "metadata": {},
   "outputs": [],
   "source": [
    "from tkinter import *\n",
    "root = Tk()\n",
    "myCanvas = Canvas(root)\n",
    "myCanvas.pack()\n",
    "\n",
    "def create_circle(x, y, r, canvasName): #center coordinates, radius\n",
    "    x0 = x - r\n",
    "    y0 = y - r\n",
    "    x1 = x + r\n",
    "    y1 = y + r\n",
    "    return canvasName.create_oval(x0, y0, x1, y1)\n",
    "\n",
    "create_circle(100, 100, 20, myCanvas)\n",
    "create_circle(50, 25, 10, myCanvas)\n",
    "root.mainloop()"
   ]
  },
  {
   "cell_type": "code",
   "execution_count": 2,
   "metadata": {},
   "outputs": [
    {
     "ename": "SyntaxError",
     "evalue": "invalid syntax (<ipython-input-2-0fae42d9dddf>, line 16)",
     "output_type": "error",
     "traceback": [
      "\u001b[1;36m  File \u001b[1;32m\"<ipython-input-2-0fae42d9dddf>\"\u001b[1;36m, line \u001b[1;32m16\u001b[0m\n\u001b[1;33m    t.\u001b[0m\n\u001b[1;37m      ^\u001b[0m\n\u001b[1;31mSyntaxError\u001b[0m\u001b[1;31m:\u001b[0m invalid syntax\n"
     ]
    }
   ],
   "source": [
    "import turtle \n",
    "import math\n",
    "t = turtle.Turtle()\n",
    "t.hideturtle()\n",
    "\n",
    "def ngon(n, cx, cy, radius, rotAngle):\n",
    "    if n < 3:\n",
    "        return\n",
    "    angle = rotAngle * math.pi / 180\n",
    "    angleInc = 2 * math.pi / n\n",
    "    t.goto(radius + cx, cy)\n",
    "    for i in range(n):\n",
    "        angle += angleInc\n",
    "        x = radius * math.cos(angle) + cx\n",
    "        y =  radius * math.sin(angle) + cy\n",
    "        t.\n",
    "        \n"
   ]
  },
  {
   "cell_type": "code",
   "execution_count": 3,
   "metadata": {},
   "outputs": [],
   "source": [
    "import turtle \n",
    "import math\n",
    "turtle.speed(0)\n",
    "sides = 5\n",
    "angle= 360/sides\n",
    "outerangle = 360//40\n",
    "for j in range(outerangle):\n",
    "    for i in range(sides):\n",
    "        turtle.forward(50)\n",
    "        turtle.right(angle)\n",
    "    turtle.right(40)\n",
    "    \n",
    "turtle.done()"
   ]
  },
  {
   "cell_type": "code",
   "execution_count": 1,
   "metadata": {},
   "outputs": [],
   "source": [
    "import turtle \n",
    "turtle.speed(9)\n",
    "\n",
    "num = 40\n",
    "sides = 360/num\n",
    "for i in range(num):\n",
    "    turtle.forward(360/num)\n",
    "    turtle.right(360/num)\n",
    "turtle.done()"
   ]
  },
  {
   "cell_type": "code",
   "execution_count": 36,
   "metadata": {
    "scrolled": true
   },
   "outputs": [
    {
     "name": "stdout",
     "output_type": "stream",
     "text": [
      "6\n",
      "7\n"
     ]
    }
   ],
   "source": [
    "import math\n",
    "def howManyGames(p, d, m, s):\n",
    "    # Return the number of games you can buy\n",
    "    count = 0\n",
    "    while s >= 0:\n",
    "        s -= max(p, m)\n",
    "        p -= d\n",
    "        count += 1\n",
    "    \n",
    "    return count-1\n",
    "print(howManyGames(20 ,3 ,6 ,80))\n",
    "print(howManyGames(20 ,3 ,6 ,85))"
   ]
  },
  {
   "cell_type": "code",
   "execution_count": 19,
   "metadata": {},
   "outputs": [],
   "source": [
    "import turtle \n",
    "turtle.speed(0)\n",
    "size = 200;\n",
    "for j in range(10):\n",
    "    for i in range(3):\n",
    "        turtle.forward(size)\n",
    "        size -= 5\n",
    "        turtle.left(90)\n",
    "    size -= 5\n",
    "turtle.done()"
   ]
  },
  {
   "cell_type": "code",
   "execution_count": 3,
   "metadata": {},
   "outputs": [],
   "source": [
    "import turtle \n",
    "turtle.speed(0)\n",
    "i = 0\n",
    "'''while(i != 3):\n",
    "    turtle.forward(100)\n",
    "    turtle.left(60)\n",
    "    turtle.forward(100)\n",
    "    turtle.left(60)\n",
    "    turtle.forward(100)\n",
    "    turtle.left(120)\n",
    "    i += 1\n",
    "turtle.done()'''\n",
    "turtle.left(22.5)\n",
    "turtle.forward(100)\n",
    "turtle.left(60)\n",
    "turtle.forward(100)\n",
    "turtle.left(60)\n",
    "turtle.forward(100)\n",
    "turtle.left(60)\n",
    "turtle.forward(100)\n",
    "turtle.left(60)\n",
    "turtle.forward(100)\n",
    "turtle.left(60)\n",
    "turtle.forward(100)\n",
    "turtle.done()"
   ]
  },
  {
   "cell_type": "code",
   "execution_count": null,
   "metadata": {},
   "outputs": [],
   "source": []
  },
  {
   "cell_type": "code",
   "execution_count": 13,
   "metadata": {},
   "outputs": [
    {
     "data": {
      "text/plain": [
       "[<matplotlib.lines.Line2D at 0x26235ef6d30>]"
      ]
     },
     "execution_count": 13,
     "metadata": {},
     "output_type": "execute_result"
    },
    {
     "data": {
      "image/png": "[encoded data removed]",
      "text/plain": [
       "<Figure size 432x288 with 1 Axes>"
      ]
     },
     "metadata": {
      "needs_background": "light"
     },
     "output_type": "display_data"
    }
   ],
   "source": [
    "import random\n",
    "import numpy as np    \n",
    "import matplotlib.pyplot as plt \n",
    "\n",
    "l = []\n",
    "for i in range(1000):\n",
    "    l.append(random.random())\n",
    "\n",
    "l2 = []\n",
    "lamda = 1\n",
    "for i in l:\n",
    "    l2.append(-np.log(i)/lamda)\n",
    "    \n",
    "l2.sort()\n",
    "count = [i for i in range(1000)]\n",
    "plt.plot(count, l2)"
   ]
  },
  {
   "cell_type": "code",
   "execution_count": 11,
   "metadata": {},
   "outputs": [
    {
     "data": {
      "text/plain": [
       "3.912023005428146"
      ]
     },
     "execution_count": 11,
     "metadata": {},
     "output_type": "execute_result"
    }
   ],
   "source": [
    "-np.log(0.02)/ lamda"
   ]
  },
  {
   "cell_type": "code",
   "execution_count": null,
   "metadata": {},
   "outputs": [],
   "source": []
  },
  {
   "cell_type": "code",
   "execution_count": null,
   "metadata": {},
   "outputs": [],
   "source": []
  }
 ],
 "metadata": {
  "kernelspec": {
   "display_name": "Python 3",
   "language": "python",
   "name": "python3"
  },
  "language_info": {
   "codemirror_mode": {
    "name": "ipython",
    "version": 3
   },
   "file_extension": ".py",
   "mimetype": "text/x-python",
   "name": "python",
   "nbconvert_exporter": "python",
   "pygments_lexer": "ipython3",
   "version": "3.7.3"
  }
 },
 "nbformat": 4,
 "nbformat_minor": 2
}
